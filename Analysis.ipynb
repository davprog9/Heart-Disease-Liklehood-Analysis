{
 "cells": [
  {
   "cell_type": "markdown",
   "id": "27355c06",
   "metadata": {},
   "source": [
    "# Data"
   ]
  },
  {
   "cell_type": "code",
   "execution_count": 2,
   "id": "9af57853",
   "metadata": {},
   "outputs": [],
   "source": [
    "import pandas as pd"
   ]
  },
  {
   "cell_type": "code",
   "execution_count": 4,
   "id": "34041aaa",
   "metadata": {},
   "outputs": [],
   "source": [
    "data = pd.read_csv(\"Data/heart.csv\")"
   ]
  },
  {
   "cell_type": "markdown",
   "id": "7ce273e4",
   "metadata": {},
   "source": [
    "# David Arzumanyan"
   ]
  },
  {
   "cell_type": "code",
   "execution_count": null,
   "id": "0d0177b7",
   "metadata": {},
   "outputs": [],
   "source": []
  },
  {
   "cell_type": "markdown",
   "id": "c0d8f4ea",
   "metadata": {},
   "source": [
    "# Daniel Tapia"
   ]
  },
  {
   "cell_type": "code",
   "execution_count": null,
   "id": "905f72e3",
   "metadata": {},
   "outputs": [],
   "source": []
  },
  {
   "cell_type": "markdown",
   "id": "a9c7f453",
   "metadata": {},
   "source": [
    "# Raghav Vaid"
   ]
  },
  {
   "cell_type": "code",
   "execution_count": null,
   "id": "738e8bd6",
   "metadata": {},
   "outputs": [],
   "source": []
  }
 ],
 "metadata": {
  "kernelspec": {
   "display_name": "base",
   "language": "python",
   "name": "python3"
  },
  "language_info": {
   "codemirror_mode": {
    "name": "ipython",
    "version": 3
   },
   "file_extension": ".py",
   "mimetype": "text/x-python",
   "name": "python",
   "nbconvert_exporter": "python",
   "pygments_lexer": "ipython3",
   "version": "3.13.5"
  }
 },
 "nbformat": 4,
 "nbformat_minor": 5
}
