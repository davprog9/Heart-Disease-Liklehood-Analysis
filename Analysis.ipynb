{
 "cells": [
  {
   "cell_type": "markdown",
   "id": "27355c06",
   "metadata": {},
   "source": [
    "# Data"
   ]
  },
  {
   "cell_type": "code",
   "execution_count": 50,
   "id": "61e38a5e",
   "metadata": {},
   "outputs": [],
   "source": [
    "import numpy as np\n",
    "import pandas as pd\n",
    "import matplotlib.pyplot as plt\n",
    "import seaborn as sns\n",
    "%matplotlib inline"
   ]
  },
  {
   "cell_type": "code",
   "execution_count": 3,
   "id": "34041aaa",
   "metadata": {},
   "outputs": [
    {
     "data": {
      "text/html": [
       "<div>\n",
       "<style scoped>\n",
       "    .dataframe tbody tr th:only-of-type {\n",
       "        vertical-align: middle;\n",
       "    }\n",
       "\n",
       "    .dataframe tbody tr th {\n",
       "        vertical-align: top;\n",
       "    }\n",
       "\n",
       "    .dataframe thead th {\n",
       "        text-align: right;\n",
       "    }\n",
       "</style>\n",
       "<table border=\"1\" class=\"dataframe\">\n",
       "  <thead>\n",
       "    <tr style=\"text-align: right;\">\n",
       "      <th></th>\n",
       "      <th>id</th>\n",
       "      <th>age</th>\n",
       "      <th>sex</th>\n",
       "      <th>dataset</th>\n",
       "      <th>cp</th>\n",
       "      <th>trestbps</th>\n",
       "      <th>chol</th>\n",
       "      <th>fbs</th>\n",
       "      <th>restecg</th>\n",
       "      <th>thalch</th>\n",
       "      <th>exang</th>\n",
       "      <th>oldpeak</th>\n",
       "      <th>slope</th>\n",
       "      <th>ca</th>\n",
       "      <th>thal</th>\n",
       "      <th>num</th>\n",
       "    </tr>\n",
       "  </thead>\n",
       "  <tbody>\n",
       "    <tr>\n",
       "      <th>0</th>\n",
       "      <td>1</td>\n",
       "      <td>63</td>\n",
       "      <td>Male</td>\n",
       "      <td>Cleveland</td>\n",
       "      <td>typical angina</td>\n",
       "      <td>145.0</td>\n",
       "      <td>233.0</td>\n",
       "      <td>True</td>\n",
       "      <td>lv hypertrophy</td>\n",
       "      <td>150.0</td>\n",
       "      <td>False</td>\n",
       "      <td>2.3</td>\n",
       "      <td>downsloping</td>\n",
       "      <td>0.0</td>\n",
       "      <td>fixed defect</td>\n",
       "      <td>0</td>\n",
       "    </tr>\n",
       "    <tr>\n",
       "      <th>1</th>\n",
       "      <td>2</td>\n",
       "      <td>67</td>\n",
       "      <td>Male</td>\n",
       "      <td>Cleveland</td>\n",
       "      <td>asymptomatic</td>\n",
       "      <td>160.0</td>\n",
       "      <td>286.0</td>\n",
       "      <td>False</td>\n",
       "      <td>lv hypertrophy</td>\n",
       "      <td>108.0</td>\n",
       "      <td>True</td>\n",
       "      <td>1.5</td>\n",
       "      <td>flat</td>\n",
       "      <td>3.0</td>\n",
       "      <td>normal</td>\n",
       "      <td>2</td>\n",
       "    </tr>\n",
       "    <tr>\n",
       "      <th>2</th>\n",
       "      <td>3</td>\n",
       "      <td>67</td>\n",
       "      <td>Male</td>\n",
       "      <td>Cleveland</td>\n",
       "      <td>asymptomatic</td>\n",
       "      <td>120.0</td>\n",
       "      <td>229.0</td>\n",
       "      <td>False</td>\n",
       "      <td>lv hypertrophy</td>\n",
       "      <td>129.0</td>\n",
       "      <td>True</td>\n",
       "      <td>2.6</td>\n",
       "      <td>flat</td>\n",
       "      <td>2.0</td>\n",
       "      <td>reversable defect</td>\n",
       "      <td>1</td>\n",
       "    </tr>\n",
       "    <tr>\n",
       "      <th>3</th>\n",
       "      <td>4</td>\n",
       "      <td>37</td>\n",
       "      <td>Male</td>\n",
       "      <td>Cleveland</td>\n",
       "      <td>non-anginal</td>\n",
       "      <td>130.0</td>\n",
       "      <td>250.0</td>\n",
       "      <td>False</td>\n",
       "      <td>normal</td>\n",
       "      <td>187.0</td>\n",
       "      <td>False</td>\n",
       "      <td>3.5</td>\n",
       "      <td>downsloping</td>\n",
       "      <td>0.0</td>\n",
       "      <td>normal</td>\n",
       "      <td>0</td>\n",
       "    </tr>\n",
       "    <tr>\n",
       "      <th>4</th>\n",
       "      <td>5</td>\n",
       "      <td>41</td>\n",
       "      <td>Female</td>\n",
       "      <td>Cleveland</td>\n",
       "      <td>atypical angina</td>\n",
       "      <td>130.0</td>\n",
       "      <td>204.0</td>\n",
       "      <td>False</td>\n",
       "      <td>lv hypertrophy</td>\n",
       "      <td>172.0</td>\n",
       "      <td>False</td>\n",
       "      <td>1.4</td>\n",
       "      <td>upsloping</td>\n",
       "      <td>0.0</td>\n",
       "      <td>normal</td>\n",
       "      <td>0</td>\n",
       "    </tr>\n",
       "  </tbody>\n",
       "</table>\n",
       "</div>"
      ],
      "text/plain": [
       "   id  age     sex    dataset               cp  trestbps   chol    fbs  \\\n",
       "0   1   63    Male  Cleveland   typical angina     145.0  233.0   True   \n",
       "1   2   67    Male  Cleveland     asymptomatic     160.0  286.0  False   \n",
       "2   3   67    Male  Cleveland     asymptomatic     120.0  229.0  False   \n",
       "3   4   37    Male  Cleveland      non-anginal     130.0  250.0  False   \n",
       "4   5   41  Female  Cleveland  atypical angina     130.0  204.0  False   \n",
       "\n",
       "          restecg  thalch  exang  oldpeak        slope   ca  \\\n",
       "0  lv hypertrophy   150.0  False      2.3  downsloping  0.0   \n",
       "1  lv hypertrophy   108.0   True      1.5         flat  3.0   \n",
       "2  lv hypertrophy   129.0   True      2.6         flat  2.0   \n",
       "3          normal   187.0  False      3.5  downsloping  0.0   \n",
       "4  lv hypertrophy   172.0  False      1.4    upsloping  0.0   \n",
       "\n",
       "                thal  num  \n",
       "0       fixed defect    0  \n",
       "1             normal    2  \n",
       "2  reversable defect    1  \n",
       "3             normal    0  \n",
       "4             normal    0  "
      ]
     },
     "execution_count": 3,
     "metadata": {},
     "output_type": "execute_result"
    }
   ],
   "source": [
    "data = pd.read_csv(\"Data/heart_disease_uci.csv\")\n",
    "data.head()"
   ]
  },
  {
   "cell_type": "markdown",
   "id": "35af05ce",
   "metadata": {},
   "source": [
    "# Potential problems to explore\n",
    "#### 1. Does age or gender affect the likelihood of heart disease?\n",
    "\n",
    "#### 2. Which risk factors are most common in patients with heart disease?\n",
    "\n",
    "#### 3. What are some of the metric patterns that raise the likelihood of heart disease in patients ?"
   ]
  },
  {
   "cell_type": "markdown",
   "id": "b9c40c5c",
   "metadata": {},
   "source": [
    "# David Arzumanyan"
   ]
  },
  {
   "cell_type": "code",
   "execution_count": 4,
   "id": "a98e935d",
   "metadata": {},
   "outputs": [
    {
     "data": {
      "text/plain": [
       "(920, 16)"
      ]
     },
     "execution_count": 4,
     "metadata": {},
     "output_type": "execute_result"
    }
   ],
   "source": [
    "data.shape"
   ]
  },
  {
   "cell_type": "code",
   "execution_count": 5,
   "id": "00bf0fca",
   "metadata": {},
   "outputs": [
    {
     "data": {
      "text/plain": [
       "id            0\n",
       "age           0\n",
       "sex           0\n",
       "dataset       0\n",
       "cp            0\n",
       "trestbps     59\n",
       "chol         30\n",
       "fbs          90\n",
       "restecg       2\n",
       "thalch       55\n",
       "exang        55\n",
       "oldpeak      62\n",
       "slope       309\n",
       "ca          611\n",
       "thal        486\n",
       "num           0\n",
       "dtype: int64"
      ]
     },
     "execution_count": 5,
     "metadata": {},
     "output_type": "execute_result"
    }
   ],
   "source": [
    "data.isnull().sum()"
   ]
  },
  {
   "cell_type": "code",
   "execution_count": 6,
   "id": "e0356441",
   "metadata": {},
   "outputs": [
    {
     "name": "stdout",
     "output_type": "stream",
     "text": [
      "<class 'pandas.core.frame.DataFrame'>\n",
      "RangeIndex: 920 entries, 0 to 919\n",
      "Data columns (total 16 columns):\n",
      " #   Column    Non-Null Count  Dtype  \n",
      "---  ------    --------------  -----  \n",
      " 0   id        920 non-null    int64  \n",
      " 1   age       920 non-null    int64  \n",
      " 2   sex       920 non-null    object \n",
      " 3   dataset   920 non-null    object \n",
      " 4   cp        920 non-null    object \n",
      " 5   trestbps  861 non-null    float64\n",
      " 6   chol      890 non-null    float64\n",
      " 7   fbs       830 non-null    object \n",
      " 8   restecg   918 non-null    object \n",
      " 9   thalch    865 non-null    float64\n",
      " 10  exang     865 non-null    object \n",
      " 11  oldpeak   858 non-null    float64\n",
      " 12  slope     611 non-null    object \n",
      " 13  ca        309 non-null    float64\n",
      " 14  thal      434 non-null    object \n",
      " 15  num       920 non-null    int64  \n",
      "dtypes: float64(5), int64(3), object(8)\n",
      "memory usage: 115.1+ KB\n"
     ]
    }
   ],
   "source": [
    "data.info()"
   ]
  },
  {
   "cell_type": "code",
   "execution_count": 7,
   "id": "e1f4c5d2",
   "metadata": {},
   "outputs": [
    {
     "data": {
      "text/plain": [
       "np.int64(0)"
      ]
     },
     "execution_count": 7,
     "metadata": {},
     "output_type": "execute_result"
    }
   ],
   "source": [
    "# Checking for duplicated rows\n",
    "np.sum(data.duplicated())"
   ]
  },
  {
   "cell_type": "code",
   "execution_count": 8,
   "id": "a5b2f5ea",
   "metadata": {},
   "outputs": [
    {
     "name": "stdout",
     "output_type": "stream",
     "text": [
      "['Male' 'Female']\n",
      "['Cleveland' 'Hungary' 'Switzerland' 'VA Long Beach']\n",
      "['typical angina' 'asymptomatic' 'non-anginal' 'atypical angina']\n",
      "['lv hypertrophy' 'normal' 'st-t abnormality' nan]\n",
      "[False True nan]\n",
      "[ 2.3  1.5  2.6  3.5  1.4  0.8  3.6  0.6  3.1  0.4  1.3  0.   0.5  1.6\n",
      "  1.   1.2  0.2  1.8  3.2  2.4  2.   2.5  2.2  2.8  3.   3.4  6.2  4.\n",
      "  5.6  2.9  0.1  2.1  1.9  4.2  0.9  1.1  3.8  0.7  0.3  4.4  5.   nan\n",
      " -1.1 -1.5 -0.1 -2.6 -0.7 -2.  -1.   1.7 -0.8 -0.5 -0.9  3.7]\n",
      "['downsloping' 'flat' 'upsloping' nan]\n",
      "[ 0.  3.  2.  1. nan]\n",
      "['fixed defect' 'normal' 'reversable defect' nan]\n",
      "[0 2 1 3 4]\n"
     ]
    }
   ],
   "source": [
    "# Checking inconsistent or invalid Entries\n",
    "print(pd.unique(data[\"sex\"].values))\n",
    "print(pd.unique(data[\"dataset\"].values))\n",
    "print(pd.unique(data[\"cp\"].values))\n",
    "print(pd.unique(data[\"restecg\"].values))\n",
    "print(pd.unique(data[\"exang\"].values))\n",
    "print(pd.unique(data[\"oldpeak\"].values))\n",
    "print(pd.unique(data[\"slope\"].values))\n",
    "print(pd.unique(data[\"ca\"].values))\n",
    "print(pd.unique(data[\"thal\"].values))\n",
    "print(pd.unique(data[\"num\"].values))"
   ]
  },
  {
   "cell_type": "code",
   "execution_count": 9,
   "id": "a689ab62",
   "metadata": {},
   "outputs": [
    {
     "name": "stdout",
     "output_type": "stream",
     "text": [
      "2\n"
     ]
    }
   ],
   "source": [
    "print(np.sum(data[\"restecg\"].isna()))\n",
    "data = data.dropna(subset=[\"restecg\"])"
   ]
  },
  {
   "cell_type": "code",
   "execution_count": 10,
   "id": "ea37b798",
   "metadata": {},
   "outputs": [
    {
     "name": "stdout",
     "output_type": "stream",
     "text": [
      "55\n"
     ]
    }
   ],
   "source": [
    "print(np.sum(data[\"exang\"].isna()))\n",
    "data = data.dropna(subset=\"exang\")"
   ]
  },
  {
   "cell_type": "code",
   "execution_count": 11,
   "id": "b579cf1c",
   "metadata": {},
   "outputs": [],
   "source": [
    "# There are some oldpeak values that are negative and unusal\n",
    "# Since it's just 12 of them we will remove them\n",
    "np.sum(data[\"oldpeak\"] < 0)\n",
    "data = data.drop(data[data[\"oldpeak\"] < 0].index) "
   ]
  },
  {
   "cell_type": "code",
   "execution_count": 12,
   "id": "5d1f70d0",
   "metadata": {},
   "outputs": [
    {
     "name": "stdout",
     "output_type": "stream",
     "text": [
      "155\n",
      "2\n",
      "0\n"
     ]
    }
   ],
   "source": [
    "# Fixing null \"Slope\" values\n",
    "\n",
    "# Healty heart during exercies\n",
    "print(np.sum(data[(data[\"thalch\"] > 125) & (data[\"exang\"] == False) & (data[\"oldpeak\"] == 0.0)][\"slope\"].isna()))\n",
    "\n",
    "# Medium ischemia\n",
    "print(np.sum(data[((data[\"thalch\"] > 115) & (data[\"thalch\"] <= 125)) & \n",
    "     ((data[\"oldpeak\"] > 1) & \n",
    "      (data[\"oldpeak\"] <= 3.5))][\"slope\"].isna()))\n",
    "\n",
    "# Significant ischemia\n",
    "print(np.sum(data[(data[\"thalch\"] < 120) & (data[\"exang\"] == True) & (data[\"oldpeak\"] > 3.5)][\"slope\"].isna()))"
   ]
  },
  {
   "cell_type": "code",
   "execution_count": 13,
   "id": "aef3e647",
   "metadata": {},
   "outputs": [],
   "source": [
    "# Healthy heart slope\n",
    "data.loc[(data[\"thalch\"] > 125) & \n",
    "         (data[\"exang\"] == False) & \n",
    "         (data[\"oldpeak\"] == 0.0) & \n",
    "         (data[\"slope\"].isna()), \n",
    "         \"slope\"] = \"upsloping\"\n",
    "\n",
    "# Medium ischemia slope\n",
    "data.loc[(data[\"thalch\"] > 115) & \n",
    "         (data[\"thalch\"] <= 125) & \n",
    "         (data[\"oldpeak\"] > 1) & \n",
    "         (data[\"oldpeak\"] <= 3.5) &\n",
    "         (data[\"slope\"].isna()),\n",
    "         \"slope\"] = \"flat\"\n",
    "\n",
    "# Significant ischemia slope\n",
    "data.loc[(data[\"thalch\"] < 120) & \n",
    "         (data[\"exang\"] == True) & \n",
    "         (data[\"oldpeak\"] > 3.5) &\n",
    "         (data[\"slope\"].isna()),\n",
    "         \"slope\"] = \"downsloping\""
   ]
  },
  {
   "cell_type": "code",
   "execution_count": 14,
   "id": "4bc0a7ce",
   "metadata": {},
   "outputs": [],
   "source": [
    "# Dropping the remaining null slope values\n",
    "np.sum(data[\"slope\"].isna())\n",
    "data = data.dropna(subset=[\"slope\"])"
   ]
  },
  {
   "cell_type": "code",
   "execution_count": 15,
   "id": "4d6f851b",
   "metadata": {},
   "outputs": [],
   "source": [
    "# Filling missing \"ca\" (major vessels observed) values with -1 as a placeholder\n",
    "# that a data is missing\n",
    "data[\"ca\"] = data[\"ca\"].fillna(-1)"
   ]
  },
  {
   "cell_type": "code",
   "execution_count": 16,
   "id": "57e3d4db",
   "metadata": {},
   "outputs": [],
   "source": [
    "# \"thal\" thallium stress test column\n",
    "data[\"thal\"] = data[\"thal\"].fillna(\"unknown\")"
   ]
  },
  {
   "cell_type": "code",
   "execution_count": 17,
   "id": "1ea5d805",
   "metadata": {},
   "outputs": [
    {
     "data": {
      "text/plain": [
       "'A fasting blood sugar over 120 mg/dL suggests hyperglycemia, which may indicate Diabetes mellitus, or\\nImpaired glucose tolerance (pre-diabetes). We will leave null values to indicate not performed tests'"
      ]
     },
     "execution_count": 17,
     "metadata": {},
     "output_type": "execute_result"
    }
   ],
   "source": [
    "# \"fbs\" \n",
    "'''A fasting blood sugar over 120 mg/dL suggests hyperglycemia, which may indicate Diabetes mellitus, or\n",
    "Impaired glucose tolerance (pre-diabetes). We will leave null values to indicate not performed tests''' "
   ]
  },
  {
   "cell_type": "markdown",
   "id": "0b5fe315",
   "metadata": {},
   "source": [
    "| Cholesterol level (mg/dL) | Classification  | Meaning                       |\n",
    "| ------------------------- | --------------- | ----------------------------- |\n",
    "| `< 200`                   | Desirable       | Normal range                  |\n",
    "| `200–239`                 | Borderline high | Elevated risk                 |\n",
    "| `≥ 240`                   | High            | Risk factor for heart disease |\n"
   ]
  },
  {
   "cell_type": "code",
   "execution_count": 18,
   "id": "7fc981a2",
   "metadata": {},
   "outputs": [],
   "source": [
    "# \"chol\" - filling with -1 to indicate missing values\n",
    "data[\"chol\"] = data[\"chol\"].fillna(-1)"
   ]
  },
  {
   "cell_type": "code",
   "execution_count": 19,
   "id": "86c5e32d",
   "metadata": {},
   "outputs": [],
   "source": [
    "# Filling trestbps with \"unkown\"\n",
    "data[\"testbps\"] = data[\"trestbps\"].fillna(\"unkown\")"
   ]
  },
  {
   "cell_type": "code",
   "execution_count": 20,
   "id": "37b5c516",
   "metadata": {},
   "outputs": [
    {
     "name": "stdout",
     "output_type": "stream",
     "text": [
      "<class 'pandas.core.frame.DataFrame'>\n",
      "Index: 754 entries, 0 to 915\n",
      "Data columns (total 17 columns):\n",
      " #   Column    Non-Null Count  Dtype  \n",
      "---  ------    --------------  -----  \n",
      " 0   id        754 non-null    int64  \n",
      " 1   age       754 non-null    int64  \n",
      " 2   sex       754 non-null    object \n",
      " 3   dataset   754 non-null    object \n",
      " 4   cp        754 non-null    object \n",
      " 5   trestbps  751 non-null    float64\n",
      " 6   chol      754 non-null    float64\n",
      " 7   fbs       688 non-null    object \n",
      " 8   restecg   754 non-null    object \n",
      " 9   thalch    754 non-null    float64\n",
      " 10  exang     754 non-null    object \n",
      " 11  oldpeak   754 non-null    float64\n",
      " 12  slope     754 non-null    object \n",
      " 13  ca        754 non-null    float64\n",
      " 14  thal      754 non-null    object \n",
      " 15  num       754 non-null    int64  \n",
      " 16  testbps   754 non-null    object \n",
      "dtypes: float64(5), int64(3), object(9)\n",
      "memory usage: 106.0+ KB\n"
     ]
    }
   ],
   "source": [
    "# Intentionally left the \"fbs\" nan values to flag those values as missing\n",
    "data.info()"
   ]
  },
  {
   "cell_type": "code",
   "execution_count": 22,
   "id": "da78f832",
   "metadata": {},
   "outputs": [
    {
     "data": {
      "text/plain": [
       "0      0\n",
       "1      1\n",
       "2      1\n",
       "3      0\n",
       "4      0\n",
       "      ..\n",
       "910    0\n",
       "911    1\n",
       "912    1\n",
       "914    1\n",
       "915    1\n",
       "Name: has_disease, Length: 754, dtype: int64"
      ]
     },
     "execution_count": 22,
     "metadata": {},
     "output_type": "execute_result"
    }
   ],
   "source": [
    "# Adding a new column of patients having a heart disease\n",
    "data[\"has_disease\"] = (data[\"num\"] > 0).astype(int)\n",
    "data[\"has_disease\"]"
   ]
  },
  {
   "cell_type": "code",
   "execution_count": 24,
   "id": "26d1b1e6",
   "metadata": {},
   "outputs": [
    {
     "data": {
      "text/plain": [
       "has_disease\n",
       "1    0.545093\n",
       "0    0.454907\n",
       "Name: proportion, dtype: float64"
      ]
     },
     "execution_count": 24,
     "metadata": {},
     "output_type": "execute_result"
    }
   ],
   "source": [
    "data[\"has_disease\"].value_counts(normalize=True)"
   ]
  },
  {
   "cell_type": "code",
   "execution_count": 108,
   "id": "588b9169",
   "metadata": {},
   "outputs": [
    {
     "data": {
      "text/plain": [
       "Text(0.5, 1.0, 'Age distribution by Heart Disease')"
      ]
     },
     "execution_count": 108,
     "metadata": {},
     "output_type": "execute_result"
    },
    {
     "data": {
      "image/png": "[encoded data removed]",
      "text/plain": [
       "<Figure size 640x480 with 1 Axes>"
      ]
     },
     "metadata": {},
     "output_type": "display_data"
    }
   ],
   "source": [
    "sns.histplot( x='age', hue='has_disease', data=data, multiple='stack')\n",
    "plt.title(\"Age distribution by Heart Disease\")"
   ]
  },
  {
   "cell_type": "code",
   "execution_count": 96,
   "id": "e035b60e",
   "metadata": {},
   "outputs": [
    {
     "data": {
      "text/plain": [
       "Text(0.5, 1.0, 'Male/Female Heart Disease count')"
      ]
     },
     "execution_count": 96,
     "metadata": {},
     "output_type": "execute_result"
    },
    {
     "data": {
      "image/png": "[encoded data removed]",
      "text/plain": [
       "<Figure size 640x480 with 1 Axes>"
      ]
     },
     "metadata": {},
     "output_type": "display_data"
    }
   ],
   "source": [
    "# Male/Female Heart Disease presence count\n",
    "sns.countplot(x=\"sex\", hue=\"has_disease\", data=data)\n",
    "plt.title(\"Male/Female Heart Disease count\")"
   ]
  },
  {
   "cell_type": "code",
   "execution_count": 92,
   "id": "b0899bab",
   "metadata": {},
   "outputs": [
    {
     "data": {
      "text/plain": [
       "Text(0.5, 1.0, 'Male/Female Heart Disease ratio')"
      ]
     },
     "execution_count": 92,
     "metadata": {},
     "output_type": "execute_result"
    },
    {
     "data": {
      "image/png": "[encoded data removed]",
      "text/plain": [
       "<Figure size 640x480 with 1 Axes>"
      ]
     },
     "metadata": {},
     "output_type": "display_data"
    }
   ],
   "source": [
    "# Male/Female Heart Disease presence ratio\n",
    "sns.barplot(x=\"sex\", y=\"has_disease\", data=data, estimator=np.mean)\n",
    "plt.title(\"Male/Female Heart Disease ratio\")"
   ]
  },
  {
   "cell_type": "code",
   "execution_count": 84,
   "id": "32ab5053",
   "metadata": {},
   "outputs": [
    {
     "data": {
      "text/plain": [
       "<Axes: xlabel='sex', ylabel='Severity of disease'>"
      ]
     },
     "execution_count": 84,
     "metadata": {},
     "output_type": "execute_result"
    },
    {
     "data": {
      "image/png": "[encoded data removed]",
      "text/plain": [
       "<Figure size 640x480 with 1 Axes>"
      ]
     },
     "metadata": {},
     "output_type": "display_data"
    }
   ],
   "source": [
    "# Severity of heart disease based on gender\n",
    "has_disease = data[data[\"num\"] > 0]\n",
    "plt.ylabel(\"Severity of disease\")\n",
    "sns.boxplot(x=\"sex\", y=\"num\", data=has_disease)"
   ]
  },
  {
   "cell_type": "code",
   "execution_count": 83,
   "id": "fb8e5d3a",
   "metadata": {},
   "outputs": [
    {
     "data": {
      "text/plain": [
       "<Axes: xlabel='Severity of disease', ylabel='age'>"
      ]
     },
     "execution_count": 83,
     "metadata": {},
     "output_type": "execute_result"
    },
    {
     "data": {
      "image/png": "[encoded data removed]",
      "text/plain": [
       "<Figure size 900x500 with 1 Axes>"
      ]
     },
     "metadata": {},
     "output_type": "display_data"
    }
   ],
   "source": [
    "# Heart disease presence and severity based on age and gender\n",
    "plt.figure(figsize=(9,5))\n",
    "plt.xlabel(\"Severity of disease\")\n",
    "sns.boxplot(x=\"num\", y=\"age\", data=data, hue=\"sex\")"
   ]
  },
  {
   "cell_type": "code",
   "execution_count": 82,
   "id": "c83c92bd",
   "metadata": {},
   "outputs": [
    {
     "data": {
      "text/plain": [
       "<Axes: xlabel='Severity of disease', ylabel='age'>"
      ]
     },
     "execution_count": 82,
     "metadata": {},
     "output_type": "execute_result"
    },
    {
     "data": {
      "image/png": "[encoded data removed]",
      "text/plain": [
       "<Figure size 900x500 with 1 Axes>"
      ]
     },
     "metadata": {},
     "output_type": "display_data"
    }
   ],
   "source": [
    "plt.figure(figsize=(9,5))\n",
    "plt.xlabel(\"Severity of disease\")\n",
    "sns.lineplot(x=\"num\", y=\"age\", data=data, hue=\"sex\")"
   ]
  },
  {
   "cell_type": "markdown",
   "id": "c0d8f4ea",
   "metadata": {},
   "source": [
    "# Daniel Tapia"
   ]
  },
  {
   "cell_type": "code",
   "execution_count": null,
   "id": "905f72e3",
   "metadata": {},
   "outputs": [],
   "source": []
  },
  {
   "cell_type": "markdown",
   "id": "a9c7f453",
   "metadata": {},
   "source": [
    "# Raghav Vaid"
   ]
  },
  {
   "cell_type": "code",
   "execution_count": null,
   "id": "738e8bd6",
   "metadata": {},
   "outputs": [],
   "source": []
  }
 ],
 "metadata": {
  "kernelspec": {
   "display_name": "Python 3.14 (General)",
   "language": "python",
   "name": "general-python"
  },
  "language_info": {
   "codemirror_mode": {
    "name": "ipython",
    "version": 3
   },
   "file_extension": ".py",
   "mimetype": "text/x-python",
   "name": "python",
   "nbconvert_exporter": "python",
   "pygments_lexer": "ipython3",
   "version": "3.14.0"
  }
 },
 "nbformat": 4,
 "nbformat_minor": 5
}
